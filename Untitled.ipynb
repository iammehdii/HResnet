{
 "cells": [
  {
   "cell_type": "code",
   "execution_count": 1,
   "id": "1ce30cb2",
   "metadata": {},
   "outputs": [],
   "source": [
    "import scipy.io as sio\n",
    "import numpy as np"
   ]
  },
  {
   "cell_type": "code",
   "execution_count": 12,
   "id": "22820dd3",
   "metadata": {},
   "outputs": [],
   "source": [
    "HS = sio.loadmat('./dataset/KSC.mat')\n",
    "gt_HS = sio.loadmat('./dataset/KSC_gt.mat')\n",
    "# data_hsi = HS['HSI'].astype(np.float32)\n",
    "# gt_hsi = gt_HS['gt']\n",
    "# TOTAL_SIZE = 15029"
   ]
  },
  {
   "cell_type": "code",
   "execution_count": 7,
   "id": "33818e6c",
   "metadata": {},
   "outputs": [
    {
     "data": {
      "text/plain": [
       "array([[ 520.,  639.,  810., ..., 6956., 6719., 7003.],\n",
       "       [ 573.,  748.,  842., ..., 6660., 6693., 6676.],\n",
       "       [ 613.,  714.,  905., ..., 6670., 6520., 6717.],\n",
       "       ...,\n",
       "       [ 835., 1204., 1476., ..., 7421., 7502., 7477.],\n",
       "       [ 929., 1164., 1415., ..., 6848., 7073., 7066.],\n",
       "       [ 901., 1155., 1366., ..., 6548., 6672., 6982.]], dtype=float32)"
      ]
     },
     "execution_count": 7,
     "metadata": {},
     "output_type": "execute_result"
    }
   ],
   "source": [
    "data_hsi[112][500:510]"
   ]
  },
  {
   "cell_type": "code",
   "execution_count": 13,
   "id": "56d57fe4",
   "metadata": {},
   "outputs": [
    {
     "data": {
      "text/plain": [
       "{'__header__': b'MATLAB 5.0 MAT-file, Platform: GLNXA64, Created on: Thu Feb 20 14:59:27 2014',\n",
       " '__version__': '1.0',\n",
       " '__globals__': [],\n",
       " 'KSC_gt': array([[0, 0, 0, ..., 0, 0, 0],\n",
       "        [0, 0, 0, ..., 0, 0, 0],\n",
       "        [0, 0, 0, ..., 0, 0, 0],\n",
       "        ...,\n",
       "        [0, 0, 0, ..., 0, 0, 0],\n",
       "        [0, 0, 0, ..., 0, 0, 0],\n",
       "        [0, 0, 0, ..., 0, 0, 0]], dtype=uint8)}"
      ]
     },
     "execution_count": 13,
     "metadata": {},
     "output_type": "execute_result"
    }
   ],
   "source": [
    "gt_HS"
   ]
  },
  {
   "cell_type": "code",
   "execution_count": null,
   "id": "73b454df",
   "metadata": {},
   "outputs": [],
   "source": []
  }
 ],
 "metadata": {
  "kernelspec": {
   "display_name": "Python 3 (ipykernel)",
   "language": "python",
   "name": "python3"
  },
  "language_info": {
   "codemirror_mode": {
    "name": "ipython",
    "version": 3
   },
   "file_extension": ".py",
   "mimetype": "text/x-python",
   "name": "python",
   "nbconvert_exporter": "python",
   "pygments_lexer": "ipython3",
   "version": "3.8.0"
  }
 },
 "nbformat": 4,
 "nbformat_minor": 5
}
